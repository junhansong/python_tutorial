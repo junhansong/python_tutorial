{
  "nbformat": 4,
  "nbformat_minor": 0,
  "metadata": {
    "colab": {
      "name": "JupyterNotebook_tutorial.ipynb의 사본",
      "provenance": [],
      "authorship_tag": "ABX9TyPc+d37xO+hc546tO+NqkXC",
      "include_colab_link": true
    },
    "kernelspec": {
      "name": "python3",
      "display_name": "Python 3"
    }
  },
  "cells": [
    {
      "cell_type": "markdown",
      "metadata": {
        "id": "view-in-github",
        "colab_type": "text"
      },
      "source": [
        "<a href=\"https://colab.research.google.com/github/junhansong/python_tutorial/blob/master/JupyterNotebook_tutorial_ipynb%EC%9D%98_%EC%82%AC%EB%B3%B8.ipynb\" target=\"_parent\"><img src=\"https://colab.research.google.com/assets/colab-badge.svg\" alt=\"Open In Colab\"/></a>"
      ]
    },
    {
      "cell_type": "markdown",
      "metadata": {
        "id": "Ir_ThOMU3FPS",
        "colab_type": "text"
      },
      "source": [
        "# Jupyter Tutorial\n",
        "## 1. What is Jupyter Notebook?\n",
        "## 2. Live Code example\n",
        "## 3. Equations \n",
        "## 4. Visualization\n",
        "### 4.1 image\n",
        "### 4.2 Video\n",
        "### 4.3 Table\n",
        "### 4.4 Chart\n",
        "## 5. Performance check\n",
        "\n",
        "------------------------------------\n",
        "The Jupyter Notebook is an open-source web application that allows you to create and share documents that contain live code, equations, visualizations and explanatory text. Uses include: data cleaning and transformation, numerical simulation, statistical modeling, machine learning and much more.\n",
        "------------------------------------\n"
      ]
    },
    {
      "cell_type": "code",
      "metadata": {
        "id": "w4Kj_WO739dT",
        "colab_type": "code",
        "outputId": "fdef3ed0-5bc0-44c2-d1c4-bfdc2e5d9d33",
        "colab": {
          "base_uri": "https://localhost:8080/",
          "height": 34
        }
      },
      "source": [
        "# adding two parameter\n",
        "def add(a,b):\n",
        "    return a+b\n",
        "add(1,3)\n"
      ],
      "execution_count": 0,
      "outputs": [
        {
          "output_type": "execute_result",
          "data": {
            "text/plain": [
              "4"
            ]
          },
          "metadata": {
            "tags": []
          },
          "execution_count": 1
        }
      ]
    },
    {
      "cell_type": "markdown",
      "metadata": {
        "id": "Tf4nWyts4AMj",
        "colab_type": "text"
      },
      "source": [
        "------------------------------------\n",
        "#sqrt(x^2+y^2+z^2) sqrt는 제곱근, Square root의 줄임말\n",
        "This expression $\\sqrt{3x-1}+(1+x)^2$ is an example of a TeX inline equation\n",
        "\n",
        "[More Examples click here](https://jupyter-notebook.readthedocs.io/en/stable/examples/Notebook/Typesetting%20Equations.html)\n",
        "------------------------------------\n"
      ]
    },
    {
      "cell_type": "code",
      "metadata": {
        "id": "z1vtRgAR4B7i",
        "colab_type": "code",
        "outputId": "745fedd4-dbde-482d-840f-100baa364dd7",
        "colab": {
          "base_uri": "https://localhost:8080/",
          "height": 121
        }
      },
      "source": [
        "from IPython.display import Image\n",
        "Image(url=\"https://raw.githubusercontent.com/jupyter/jupyter/master/docs/source/_static/_images/jupyter.png\", width=400, height=100)\n"
      ],
      "execution_count": 0,
      "outputs": [
        {
          "output_type": "execute_result",
          "data": {
            "text/html": [
              "<img src=\"https://raw.githubusercontent.com/jupyter/jupyter/master/docs/source/_static/_images/jupyter.png\" width=\"400\" height=\"100\"/>"
            ],
            "text/plain": [
              "<IPython.core.display.Image object>"
            ]
          },
          "metadata": {
            "tags": []
          },
          "execution_count": 2
        }
      ]
    },
    {
      "cell_type": "markdown",
      "metadata": {
        "id": "uRa0HpbA4GG3",
        "colab_type": "text"
      },
      "source": [
        "------------------------------------\n"
      ]
    },
    {
      "cell_type": "code",
      "metadata": {
        "id": "W_l-1KWJ4G11",
        "colab_type": "code",
        "outputId": "0ffa17fb-e046-4bd1-ddde-de3a62a5ff06",
        "colab": {
          "base_uri": "https://localhost:8080/",
          "height": 321
        }
      },
      "source": [
        "from IPython.display import YouTubeVideo\n",
        "YouTubeVideo('vJwrhhL5f8Y')\n"
      ],
      "execution_count": 0,
      "outputs": [
        {
          "output_type": "execute_result",
          "data": {
            "text/html": [
              "\n",
              "        <iframe\n",
              "            width=\"400\"\n",
              "            height=\"300\"\n",
              "            src=\"https://www.youtube.com/embed/vJwrhhL5f8Y\"\n",
              "            frameborder=\"0\"\n",
              "            allowfullscreen\n",
              "        ></iframe>\n",
              "        "
            ],
            "text/plain": [
              "<IPython.lib.display.YouTubeVideo at 0x7f9f37b01400>"
            ],
            "image/jpeg": "[encoded data removed]"
          },
          "metadata": {
            "tags": []
          },
          "execution_count": 3
        }
      ]
    },
    {
      "cell_type": "markdown",
      "metadata": {
        "id": "w_pFt2ec4Hqu",
        "colab_type": "text"
      },
      "source": [
        "------------------------------------\n"
      ]
    },
    {
      "cell_type": "code",
      "metadata": {
        "id": "GPjAX-FY4IOD",
        "colab_type": "code",
        "outputId": "79aba73a-058f-450a-8eae-4372abf4aa4a",
        "colab": {
          "base_uri": "https://localhost:8080/",
          "height": 359
        }
      },
      "source": [
        "import pandas as pd\n",
        "url=\"https://raw.githubusercontent.com/cs109/2014_data/master/countries.csv\"\n",
        "pd.read_csv(url, nrows=10)\n"
      ],
      "execution_count": 0,
      "outputs": [
        {
          "output_type": "execute_result",
          "data": {
            "text/html": [
              "<div>\n",
              "<style scoped>\n",
              "    .dataframe tbody tr th:only-of-type {\n",
              "        vertical-align: middle;\n",
              "    }\n",
              "\n",
              "    .dataframe tbody tr th {\n",
              "        vertical-align: top;\n",
              "    }\n",
              "\n",
              "    .dataframe thead th {\n",
              "        text-align: right;\n",
              "    }\n",
              "</style>\n",
              "<table border=\"1\" class=\"dataframe\">\n",
              "  <thead>\n",
              "    <tr style=\"text-align: right;\">\n",
              "      <th></th>\n",
              "      <th>Country</th>\n",
              "      <th>Region</th>\n",
              "    </tr>\n",
              "  </thead>\n",
              "  <tbody>\n",
              "    <tr>\n",
              "      <th>0</th>\n",
              "      <td>Algeria</td>\n",
              "      <td>AFRICA</td>\n",
              "    </tr>\n",
              "    <tr>\n",
              "      <th>1</th>\n",
              "      <td>Angola</td>\n",
              "      <td>AFRICA</td>\n",
              "    </tr>\n",
              "    <tr>\n",
              "      <th>2</th>\n",
              "      <td>Benin</td>\n",
              "      <td>AFRICA</td>\n",
              "    </tr>\n",
              "    <tr>\n",
              "      <th>3</th>\n",
              "      <td>Botswana</td>\n",
              "      <td>AFRICA</td>\n",
              "    </tr>\n",
              "    <tr>\n",
              "      <th>4</th>\n",
              "      <td>Burkina</td>\n",
              "      <td>AFRICA</td>\n",
              "    </tr>\n",
              "    <tr>\n",
              "      <th>5</th>\n",
              "      <td>Burundi</td>\n",
              "      <td>AFRICA</td>\n",
              "    </tr>\n",
              "    <tr>\n",
              "      <th>6</th>\n",
              "      <td>Cameroon</td>\n",
              "      <td>AFRICA</td>\n",
              "    </tr>\n",
              "    <tr>\n",
              "      <th>7</th>\n",
              "      <td>Cape Verde</td>\n",
              "      <td>AFRICA</td>\n",
              "    </tr>\n",
              "    <tr>\n",
              "      <th>8</th>\n",
              "      <td>Central African Republic</td>\n",
              "      <td>AFRICA</td>\n",
              "    </tr>\n",
              "    <tr>\n",
              "      <th>9</th>\n",
              "      <td>Chad</td>\n",
              "      <td>AFRICA</td>\n",
              "    </tr>\n",
              "  </tbody>\n",
              "</table>\n",
              "</div>"
            ],
            "text/plain": [
              "                    Country  Region\n",
              "0                   Algeria  AFRICA\n",
              "1                    Angola  AFRICA\n",
              "2                     Benin  AFRICA\n",
              "3                  Botswana  AFRICA\n",
              "4                   Burkina  AFRICA\n",
              "5                   Burundi  AFRICA\n",
              "6                  Cameroon  AFRICA\n",
              "7                Cape Verde  AFRICA\n",
              "8  Central African Republic  AFRICA\n",
              "9                      Chad  AFRICA"
            ]
          },
          "metadata": {
            "tags": []
          },
          "execution_count": 4
        }
      ]
    },
    {
      "cell_type": "markdown",
      "metadata": {
        "id": "-o23dd2B4JB3",
        "colab_type": "text"
      },
      "source": [
        "-------------------------------------\n"
      ]
    },
    {
      "cell_type": "code",
      "metadata": {
        "id": "jHvJG4Qi4JrE",
        "colab_type": "code",
        "outputId": "aa7148a4-b292-45e1-9e53-86b73282a49b",
        "colab": {
          "base_uri": "https://localhost:8080/",
          "height": 265
        }
      },
      "source": [
        "import matplotlib.pyplot as plt\n",
        "plt.plot([1,2,3,4])\n",
        "plt.ylabel('some numbers')\n",
        "plt.show()\n",
        "\n"
      ],
      "execution_count": 0,
      "outputs": [
        {
          "output_type": "display_data",
          "data": {
            "image/png": "[encoded data removed]",
            "text/plain": [
              "<Figure size 432x288 with 1 Axes>"
            ]
          },
          "metadata": {
            "tags": [],
            "needs_background": "light"
          }
        }
      ]
    },
    {
      "cell_type": "markdown",
      "metadata": {
        "id": "VrMJrDlO4R2n",
        "colab_type": "text"
      },
      "source": [
        "[More Examples click here](https://matplotlib.org/examples/index.html)\n"
      ]
    },
    {
      "cell_type": "markdown",
      "metadata": {
        "id": "s58Uv29h4Tmn",
        "colab_type": "text"
      },
      "source": [
        "-------------------------------------\n"
      ]
    },
    {
      "cell_type": "code",
      "metadata": {
        "id": "XWG4tPih4UMU",
        "colab_type": "code",
        "outputId": "019b835c-a329-42d5-8578-878a30825c51",
        "colab": {
          "base_uri": "https://localhost:8080/",
          "height": 68
        }
      },
      "source": [
        "%timeit 3+4\n",
        "%timeit add(3,4)\n",
        "\n"
      ],
      "execution_count": 0,
      "outputs": [
        {
          "output_type": "stream",
          "text": [
            "100000000 loops, best of 3: 11.4 ns per loop\n",
            "The slowest run took 16.11 times longer than the fastest. This could mean that an intermediate result is being cached.\n",
            "10000000 loops, best of 3: 85.9 ns per loop\n"
          ],
          "name": "stdout"
        }
      ]
    },
    {
      "cell_type": "code",
      "metadata": {
        "id": "E_nxju-T4XPP",
        "colab_type": "code",
        "outputId": "bfd4f476-5234-4773-c6c1-57343f7757b2",
        "colab": {
          "base_uri": "https://localhost:8080/",
          "height": 34
        }
      },
      "source": [
        "%%timeit\n",
        "a=[1,2,3]\n",
        "a=(x+1 for x in a)\n",
        "\n"
      ],
      "execution_count": 0,
      "outputs": [
        {
          "output_type": "stream",
          "text": [
            "1000000 loops, best of 3: 316 ns per loop\n"
          ],
          "name": "stdout"
        }
      ]
    },
    {
      "cell_type": "code",
      "metadata": {
        "id": "SiZYSjx04YBP",
        "colab_type": "code",
        "outputId": "07c6c3e0-bf95-4da0-aa4e-63f2c59c3a71",
        "colab": {
          "base_uri": "https://localhost:8080/",
          "height": 51
        }
      },
      "source": [
        "%%timeit\n",
        "b=[1,2,3]\n",
        "for i in range(len(b)):\n",
        "\tb[i]=b[i]+1"
      ],
      "execution_count": 0,
      "outputs": [
        {
          "output_type": "stream",
          "text": [
            "The slowest run took 5.72 times longer than the fastest. This could mean that an intermediate result is being cached.\n",
            "1000000 loops, best of 3: 453 ns per loop\n"
          ],
          "name": "stdout"
        }
      ]
    }
  ]
}